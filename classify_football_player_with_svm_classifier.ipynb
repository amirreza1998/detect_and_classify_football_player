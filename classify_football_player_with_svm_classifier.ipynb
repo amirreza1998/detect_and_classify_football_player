{
  "cells": [
    {
      "cell_type": "code",
      "execution_count": 2,
      "metadata": {
        "colab": {
          "base_uri": "https://localhost:8080/"
        },
        "id": "HdOHDnLYLfR2",
        "outputId": "b1947a23-d28e-487f-f47d-8df7532ce504"
      },
      "outputs": [
        {
          "output_type": "stream",
          "name": "stdout",
          "text": [
            "Mounted at /content/drive\n"
          ]
        }
      ],
      "source": [
        "#from google.colab import drive\n",
        "#drive.mount('/content/drive')",
        "\n",
        "dirpath = 'drive/MyDrive/vision project/xmls'  # The directory where the xml file was originally stored\n",
        "\n",
        "frame_dirpath = 'drive/MyDrive/vision project/frames/'",
        "\n",
      ]
    },
    {
      "cell_type": "markdown",
      "source": [
        "# load database"
      ],
      "metadata": {
        "id": "MDUU5575d8FD"
      }
    },
    {
      "cell_type": "code",
      "execution_count": null,
      "metadata": {
        "id": "3_vwEDtGLWUw"
      },
      "outputs": [],
      "source": [
        "import os\n",
        "import xml.etree.ElementTree as ET\n",
        "from PIL import Image\n",
        "import cv2\n",
        "import numpy as np\n",
        "import matplotlib.pyplot as plt\n",
        "\n",
        "player_label=np.array([])\n",
        "player_image=np.array([])\n",
        "a_3d_array = np.array([[[1, 2], [3, 4]], [[5, 6], [7, 8]]])\n",
        "j=0\n",
        "hi = np.array([])\n",
        "for fp in os.listdir(dirpath):\n",
        "    root = ET.parse(os.path.join(dirpath, fp)).getroot()\n",
        "\n",
        "    xmin, ymin, xmax, ymax = 0, 0, 0, 0\n",
        "    sz = root.find('size')\n",
        "    width = float(sz[0].text)\n",
        "    height = float(sz[1].text)\n",
        "    filename = root.find('filename').text\n",
        "    im = Image.open(frame_dirpath + filename)\n",
        "    img = cv2.imread(frame_dirpath + filename)\n",
        "    i=0\n",
        "    for child in root.findall('object'):  # Found all the boxes in the image\n",
        "        sub = child.find('bndbox')  # Found the label value of the box and read it\n",
        "        xmin = float(sub[0].text)\n",
        "        ymin = float(sub[1].text)\n",
        "        xmax = float(sub[2].text)\n",
        "        ymax = float(sub[3].text)\n",
        "        x_center = (xmin + xmax) / (2 * width)\n",
        "        y_center = (ymin + ymax) / (2 * height)\n",
        "\n",
        "        im1 = im.crop((xmin, ymin, xmax, ymax))\n",
        "        cropped_image = img[int(ymin):int(ymax), int(xmin):int(xmax)]\n",
        "        dim=(100,100)\n",
        "        resized = cv2.resize(cropped_image, dim, interpolation=cv2.INTER_AREA)\n",
        "        sample = cropped_image\n",
        "        histg = cv2.calcHist([sample], [0], None, [256], [0, 256])\n",
        "        s=histg[0][0];\n",
        "        print('this',s)\n",
        "        print('that',histg.shape[0])\n",
        "        print('p',max(histg))\n",
        "        s=histg[0][0]\n",
        "        for i in range(0,256):\n",
        "            if histg[i][0]>s:\n",
        "                s=histg[i][0]\n",
        "        hi=np.append(hi,s)\n",
        "\n",
        "        if j>1:\n",
        "            player_image = np.concatenate((player_image,  [resized]), axis=0)\n",
        "        if j == 1:\n",
        "            player_image = np.stack((player_image, resized))\n",
        "            j = j + 1\n",
        "\n",
        "        if j == 0:\n",
        "            player_image = resized\n",
        "            j = j + 1\n",
        "        print(j)\n",
        "        name = root.find('name')\n",
        "        if child[0].text=='red':\n",
        "            player_label=np.append(player_label,0)\n",
        "        if child[0].text=='blue':\n",
        "            player_label=np.append(player_label,1)\n",
        "        if child[0].text=='yellow':\n",
        "            player_label=np.append(player_label,2)\n",
        "        # print(player_image.shape)\n",
        "        # print(player_label.shape)\n",
        "    print('dodo',hi.shape)\n",
        "    print('hist',histg.shape)\n",
        "    # print(hi)\n",
        "    player_image=np.array(player_image)\n",
        "print(f\"player_image shape:{player_image.shape}\")\n",
        "print(f\"player_label shape:{player_label.shape}\")\n",
        "np.save(\"player_image.npy\", player_image)\n",
        "np.save(\"player_label.npy\", player_label)"
      ]
    },
    {
      "cell_type": "markdown",
      "source": [
        "# load libraries and seprate test and train data\n"
      ],
      "metadata": {
        "id": "6l3Iz549eGvc"
      }
    },
    {
      "cell_type": "code",
      "execution_count": 48,
      "metadata": {
        "colab": {
          "base_uri": "https://localhost:8080/"
        },
        "id": "c9B7oD-kDBqG",
        "outputId": "b30699ef-ddcf-498e-d439-bbfbef6b9bbe"
      },
      "outputs": [
        {
          "output_type": "stream",
          "name": "stdout",
          "text": [
            "x_train shape (965, 100, 100, 3)\n",
            "y_train shape (965,)\n",
            "x_test shape (108, 100, 100, 3)\n",
            "y_test shape (108,)\n"
          ]
        }
      ],
      "source": [
        "# %tensorflow_version 1.x\n",
        "import tensorflow as tf\n",
        "import cv2\n",
        "import numpy as np\n",
        "import tensorflow as tf\n",
        "from sklearn.svm import SVC\n",
        "from sklearn.metrics import classification_report, confusion_matrix\n",
        "\n",
        "from keras.datasets import mnist\n",
        "from keras.layers import Input ,Dense,Activation, Conv2D,AveragePooling2D,Flatten\n",
        "from keras.models import Model\n",
        "from tensorflow.keras.utils import to_categorical\n",
        "from keras.preprocessing.image import ImageDataGenerator\n",
        "\n",
        "from sklearn.model_selection import train_test_split\n",
        "import matplotlib.pyplot as plt\n",
        "get_ipython().magic(u'matplotlib inline')\n",
        "x_train, x_test, y_train, y_test  = train_test_split(player_image, player_label , test_size=0.1, shuffle=True, random_state=5)\n",
        "print(f\"x_train shape {x_train.shape}\")\n",
        "print(f\"y_train shape {y_train.shape}\")\n",
        "print(f\"x_test shape {x_test.shape}\")\n",
        "print(f\"y_test shape {y_test.shape}\")"
      ]
    },
    {
      "cell_type": "markdown",
      "source": [
        "# reshape \n",
        "reshape x_train and x_test as way that each image become one vector "
      ],
      "metadata": {
        "id": "4oaDxxC1m0is"
      }
    },
    {
      "cell_type": "code",
      "source": [
        "x_train_reshaped = []\n",
        "for i in range(x_train.shape[0]):\n",
        "    x_train_reshaped.append(x_train[i].ravel())\n",
        "x_train_reshaped = np.array(x_train_reshaped)\n",
        "print(x_train_reshaped.shape)\n",
        "x_test_reshaped = []\n",
        "for i in range(x_test.shape[0]):\n",
        "    x_test_reshaped.append(x_test[i].ravel())\n",
        "x_test_reshaped = np.array(x_test_reshaped)\n",
        "print(x_test_reshaped.shape)"
      ],
      "metadata": {
        "colab": {
          "base_uri": "https://localhost:8080/"
        },
        "id": "auVJXazvgRFH",
        "outputId": "7ab09f5b-307a-4aa9-94bf-41146dadb25c"
      },
      "execution_count": 76,
      "outputs": [
        {
          "output_type": "stream",
          "name": "stdout",
          "text": [
            "(965, 30000)\n",
            "(108, 30000)\n"
          ]
        }
      ]
    },
    {
      "cell_type": "markdown",
      "source": [
        "# define svm classifier \n",
        "the kernel is rbf"
      ],
      "metadata": {
        "id": "JXGtoNCfm-ic"
      }
    },
    {
      "cell_type": "code",
      "execution_count": 49,
      "metadata": {
        "colab": {
          "base_uri": "https://localhost:8080/"
        },
        "id": "GMGSlUu0FrlP",
        "outputId": "b18e1e65-b863-4850-c23d-69001ff1b84f"
      },
      "outputs": [
        {
          "output_type": "execute_result",
          "data": {
            "text/plain": [
              "SVC()"
            ]
          },
          "metadata": {},
          "execution_count": 49
        }
      ],
      "source": [
        "# y_train= to_categorical(y_train)\n",
        "# y_test = to_categorical(y_test) \n",
        "svclassifier = SVC(kernel='rbf')\n",
        "svclassifier.fit(x_train_reshaped, y_train)"
      ]
    },
    {
      "cell_type": "markdown",
      "source": [
        "# show sample number of test dataset and result of prediction"
      ],
      "metadata": {
        "id": "BUTRHwOjnFNC"
      }
    },
    {
      "cell_type": "code",
      "execution_count": null,
      "metadata": {
        "id": "x6BWNQB4QHL-"
      },
      "outputs": [],
      "source": [
        "import random\n",
        "i = 0\n",
        "while i<10:\n",
        "  j=int(random.random()*100)\n",
        "  sample = x_test[j]\n",
        "  print(x_test[j].shape)\n",
        "  sample_show = sample.reshape((100,100,3))\n",
        "  plt.figure(figsize=(3,3))\n",
        "  plt.imshow(sample_show , cmap='gray')\n",
        "  plt.show()\n",
        "  batch = np.expand_dims(sample, axis=0)\n",
        "  prediction = svclassifier.predict(batch.ravel().reshape([1,-1]))\n",
        "  print(prediction)\n",
        "  i=i+1\n",
        "  if prediction[0]==0:\n",
        "    print('blue')\n",
        "  if prediction[0]==1:\n",
        "    print('red')\n",
        "  if prediction[0]==2:\n",
        "    print('refree')\n",
        "  # print(type(y_test[j]))"
      ]
    },
    {
      "cell_type": "markdown",
      "source": [
        "calculate accurcy in test dataset"
      ],
      "metadata": {
        "id": "anc6qlQlnMd2"
      }
    },
    {
      "cell_type": "code",
      "source": [
        "from sklearn.metrics import accuracy_score\n",
        "y_predict = svclassifier.predict(x_test_reshaped)\n",
        "accuracy_score(y_test, y_predict)"
      ],
      "metadata": {
        "colab": {
          "base_uri": "https://localhost:8080/"
        },
        "id": "Hxuu0YRQlmIx",
        "outputId": "bbb01602-08e7-4dca-f741-ae4daca68e81"
      },
      "execution_count": 78,
      "outputs": [
        {
          "output_type": "execute_result",
          "data": {
            "text/plain": [
              "0.9907407407407407"
            ]
          },
          "metadata": {},
          "execution_count": 78
        }
      ]
    }
  ],
  "metadata": {
    "accelerator": "GPU",
    "colab": {
      "collapsed_sections": [],
      "provenance": []
    },
    "kernelspec": {
      "display_name": "Python 3",
      "name": "python3"
    },
    "language_info": {
      "name": "python"
    }
  },
  "nbformat": 4,
  "nbformat_minor": 0
}
